{
 "cells": [
  {
   "cell_type": "code",
   "execution_count": 1,
   "id": "417bcf3a",
   "metadata": {},
   "outputs": [],
   "source": [
    "# 1) design model (input, output size, forward pass)\n",
    "# 2) construct loss and optimizer\n",
    "# 3) Training Loop\n",
    "##   - forward pass: computer prediction\n",
    "##   - backward Pass: gradients\n",
    "##   - update weights\n",
    "##   - Set Grad to Zero"
   ]
  },
  {
   "cell_type": "code",
   "execution_count": 35,
   "id": "93059c5e",
   "metadata": {},
   "outputs": [],
   "source": [
    "import torch\n",
    "import torch.nn as nn\n",
    "import numpy as np\n",
    "from sklearn import datasets\n",
    "import matplotlib.pyplot as plt"
   ]
  },
  {
   "cell_type": "code",
   "execution_count": 36,
   "id": "b1be6325",
   "metadata": {},
   "outputs": [
    {
     "name": "stdout",
     "output_type": "stream",
     "text": [
      "torch.Size([100, 1])\n",
      "torch.Size([100])\n",
      "torch.Size([100, 1])\n"
     ]
    }
   ],
   "source": [
    "X_train, y_train = datasets.make_regression(n_samples=100, n_features=1, noise=20)\n",
    "X_train = torch.from_numpy(X_train.astype(np.float32))\n",
    "y_train = torch.from_numpy(y_train.astype(np.float32))\n",
    "print(X_train.shape)\n",
    "print(y_train.shape)\n",
    "y_train = y_train.view(y_train.shape[0],1)\n",
    "print(y_train.shape)"
   ]
  },
  {
   "cell_type": "code",
   "execution_count": 37,
   "id": "9b48f259",
   "metadata": {},
   "outputs": [],
   "source": [
    "in_features = X_train.shape[1]\n",
    "out_features = y_train.shape[1]\n",
    "model = nn.Linear(in_features, out_features)"
   ]
  },
  {
   "cell_type": "code",
   "execution_count": 38,
   "id": "9c9e3443",
   "metadata": {},
   "outputs": [],
   "source": [
    "criterian = nn.MSELoss()"
   ]
  },
  {
   "cell_type": "code",
   "execution_count": 39,
   "id": "5ce17863",
   "metadata": {},
   "outputs": [],
   "source": [
    "learning_rate = 0.01\n",
    "optimiser = torch.optim.SGD(model.parameters(),lr=learning_rate)"
   ]
  },
  {
   "cell_type": "code",
   "execution_count": 40,
   "id": "f1bf3b63",
   "metadata": {},
   "outputs": [],
   "source": [
    "epochs = 100"
   ]
  },
  {
   "cell_type": "code",
   "execution_count": 41,
   "id": "9cc99e16",
   "metadata": {},
   "outputs": [
    {
     "name": "stdout",
     "output_type": "stream",
     "text": [
      "epoch: 10, loss = 7187.5957\n",
      "epoch: 20, loss = 4147.9458\n",
      "epoch: 30, loss = 2473.2905\n",
      "epoch: 40, loss = 1549.3588\n",
      "epoch: 50, loss = 1038.7379\n",
      "epoch: 60, loss = 755.9531\n",
      "epoch: 70, loss = 598.9533\n",
      "epoch: 80, loss = 511.5267\n",
      "epoch: 90, loss = 462.6684\n",
      "epoch: 100, loss = 435.2486\n"
     ]
    }
   ],
   "source": [
    "for epoch in range(epochs):\n",
    "    # Forward pass\n",
    "    y_predict = model(X_train)\n",
    "    \n",
    "    # Computer loss\n",
    "    loss = criterian(y_predict, y_train)\n",
    "    \n",
    "    # back Propagation\n",
    "    loss.backward()\n",
    "    \n",
    "    # optimizer step (to Update weights)\n",
    "    optimiser.step()\n",
    "    \n",
    "    # gradients to zero\n",
    "    optimiser.zero_grad()\n",
    "    \n",
    "    if (epoch + 1) % 10 == 0:\n",
    "        print(f'epoch: {epoch+1}, loss = {loss.item():.4f}')"
   ]
  },
  {
   "cell_type": "code",
   "execution_count": 42,
   "id": "df18c072",
   "metadata": {},
   "outputs": [
    {
     "data": {
      "image/png": "[encoded data removed]",
      "text/plain": [
       "<Figure size 432x288 with 1 Axes>"
      ]
     },
     "metadata": {
      "needs_background": "light"
     },
     "output_type": "display_data"
    }
   ],
   "source": [
    "y_predicted = model(X_train).detach().numpy()\n",
    "plt.plot(X_train, y_train, 'bo')\n",
    "plt.plot(X_train, y_predicted, 'r')\n",
    "plt.show()"
   ]
  },
  {
   "cell_type": "code",
   "execution_count": null,
   "id": "67419473",
   "metadata": {},
   "outputs": [],
   "source": []
  }
 ],
 "metadata": {
  "hide_input": false,
  "kernelspec": {
   "display_name": "Python 3 (ipykernel)",
   "language": "python",
   "name": "python3"
  },
  "language_info": {
   "codemirror_mode": {
    "name": "ipython",
    "version": 3
   },
   "file_extension": ".py",
   "mimetype": "text/x-python",
   "name": "python",
   "nbconvert_exporter": "python",
   "pygments_lexer": "ipython3",
   "version": "3.9.1"
  },
  "varInspector": {
   "cols": {
    "lenName": 16,
    "lenType": 16,
    "lenVar": 40
   },
   "kernels_config": {
    "python": {
     "delete_cmd_postfix": "",
     "delete_cmd_prefix": "del ",
     "library": "var_list.py",
     "varRefreshCmd": "print(var_dic_list())"
    },
    "r": {
     "delete_cmd_postfix": ") ",
     "delete_cmd_prefix": "rm(",
     "library": "var_list.r",
     "varRefreshCmd": "cat(var_dic_list()) "
    }
   },
   "types_to_exclude": [
    "module",
    "function",
    "builtin_function_or_method",
    "instance",
    "_Feature"
   ],
   "window_display": false
  }
 },
 "nbformat": 4,
 "nbformat_minor": 5
}
